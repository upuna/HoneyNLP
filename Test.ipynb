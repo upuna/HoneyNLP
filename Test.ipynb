{
 "cells": [
  {
   "cell_type": "code",
   "execution_count": 1,
   "id": "a46851f8",
   "metadata": {},
   "outputs": [],
   "source": [
    "import torch\n",
    "import torch.nn.functional as F\n",
    "from torch.distributions import Categorical\n",
    "import numpy as np\n",
    "import pickle\n",
    "from CharRNN import RNN\n",
    "import chars2vec\n",
    "from transformers import BertTokenizer\n",
    "\n",
    "device = torch.device(\"cuda\" if torch.cuda.is_available() else \"cpu\")\n",
    "tokenizer = BertTokenizer.from_pretrained(\"bert-base-cased\")"
   ]
  },
  {
   "cell_type": "code",
   "execution_count": 2,
   "id": "2bc29b31",
   "metadata": {},
   "outputs": [
    {
     "name": "stdout",
     "output_type": "stream",
     "text": [
      "----------------------------------------\n",
      "Data has 128399604 characters, 62 unique\n",
      "----------------------------------------\n",
      "Model loaded successfully !!\n"
     ]
    }
   ],
   "source": [
    "############ Hyperparameters ############\n",
    "hidden_size = 512   # size of hidden state\n",
    "num_layers = 3      # num of layers in LSTM layer stack\n",
    "\n",
    "load_path = \"./preTrained/CharRNN_rockyou.pth\"\n",
    "data_path = \"./data/flitered_rockyou.txt\"\n",
    "#########################################\n",
    "\n",
    "# load the text file\n",
    "data = open(data_path, 'r').read()\n",
    "chars = sorted(list(set(data)-set('\\n')))\n",
    "data_size, vocab_size = len(data), len(chars)\n",
    "print(\"----------------------------------------\")\n",
    "print(\"Data has {} characters, {} unique\".format(data_size, vocab_size))\n",
    "print(\"----------------------------------------\")\n",
    "\n",
    "# char to index and idex to char maps\n",
    "char_to_ix = { ch:i for i,ch in enumerate(chars) }\n",
    "ix_to_char = { i:ch for i,ch in enumerate(chars) }\n",
    "\n",
    "# create and load model instance\n",
    "rnn = RNN(vocab_size, vocab_size, hidden_size, num_layers).to(device)\n",
    "rnn.load_state_dict(torch.load(load_path))\n",
    "print(\"Model loaded successfully !!\")\n",
    "\n",
    "c2v_model = chars2vec.load_model('eng_50')"
   ]
  },
  {
   "cell_type": "code",
   "execution_count": 11,
   "id": "c2202a51",
   "metadata": {
    "scrolled": true
   },
   "outputs": [],
   "source": [
    "def generate_n_honey_password(true_password, num_honey_password=50, choose_n=10):\n",
    "    generate_honey_password = 0\n",
    "    new_passwords = []\n",
    "    \n",
    "    TestData = true_password\n",
    "    new_passwords.append(TestData)\n",
    "\n",
    "    token_list = tokenizer.tokenize(TestData)\n",
    "    print(token_list)\n",
    "\n",
    "    if len(token_list)>3:\n",
    "        keep_len = len(TestData)-len(token_list[-1])+2-len(token_list[-2])+2-len(token_list[-3])+2\n",
    "    elif len(token_list)>1:\n",
    "        keep_len = len(token_list[0])\n",
    "    elif len(token_list)==1:\n",
    "        keep_len = len(TestData)-3\n",
    "\n",
    "    op_seq_len = len(TestData) - keep_len\n",
    "    new_password_const = TestData[:keep_len]\n",
    "\n",
    "    TestData = list(TestData)\n",
    "    for i, ch in enumerate(TestData):\n",
    "        TestData[i] = char_to_ix[ch]\n",
    "\n",
    "    TestData = torch.tensor(TestData).to(device)\n",
    "    TestData = torch.unsqueeze(TestData, dim=1)\n",
    "\n",
    "    while(generate_honey_password<num_honey_password):\n",
    "        data_ptr = 0\n",
    "        hidden_state = None\n",
    "        input_seq = TestData[0:keep_len]\n",
    "        _, hidden_state = rnn(input_seq, hidden_state)\n",
    "        input_seq = TestData[keep_len-1:keep_len]\n",
    "        new_password = new_password_const\n",
    "        while True:\n",
    "            # forward pass\n",
    "            output, hidden_state = rnn(input_seq, hidden_state)\n",
    "            # construct categorical distribution and sample a character\n",
    "            output = F.softmax(torch.squeeze(output), dim=0)\n",
    "            dist = Categorical(output)\n",
    "            index = dist.sample().item()\n",
    "            new_password += ix_to_char[index]\n",
    "            # next input is current output\n",
    "            input_seq[0][0] = index\n",
    "            data_ptr += 1\n",
    "            if data_ptr >= op_seq_len:\n",
    "                break\n",
    "        if new_password in set(new_passwords):\n",
    "            pass\n",
    "        else:\n",
    "            generate_honey_password += 1\n",
    "#             print(new_password)\n",
    "            new_passwords.append(new_password)\n",
    "#             print(\"----------------------------------------\")\n",
    "\n",
    "    # Create word embeddings\n",
    "    word_embeddings = c2v_model.vectorize_words(new_passwords)\n",
    "#     print(word_embeddings.shape)\n",
    "    distance = np.sum((word_embeddings[1:,:] - word_embeddings[0,:])**2,axis=1)\n",
    "    \n",
    "    return_passwords = []\n",
    "    for i in range(choose_n):\n",
    "#         print(new_passwords[np.argsort(distance)[i]+1])\n",
    "        return_passwords.append(new_passwords[np.argsort(distance)[i]+1])\n",
    "    \n",
    "    return return_passwords"
   ]
  },
  {
   "cell_type": "code",
   "execution_count": 14,
   "id": "83d0ebcb",
   "metadata": {
    "scrolled": true
   },
   "outputs": [
    {
     "name": "stdout",
     "output_type": "stream",
     "text": [
      "['Language']\n",
      "2/2 [==============================] - 0s 9ms/step\n"
     ]
    },
    {
     "data": {
      "text/plain": [
       "['Langu993',\n",
       " 'Langu639',\n",
       " 'Langu196',\n",
       " 'Langu912',\n",
       " 'Langu999',\n",
       " 'Langu123',\n",
       " 'Langu743',\n",
       " 'Langu431',\n",
       " 'Langu411',\n",
       " 'Langu96V',\n",
       " 'Langu601',\n",
       " 'Langu351',\n",
       " 'Langu907',\n",
       " 'Langu154',\n",
       " 'Langu950',\n",
       " 'Langu122',\n",
       " 'Langu790',\n",
       " 'LanguJ08',\n",
       " 'Langu076',\n",
       " 'Langu738',\n",
       " 'Langunea',\n",
       " 'LanguADA',\n",
       " 'Langu378',\n",
       " 'Langu427',\n",
       " 'Langu42a',\n",
       " 'Langu320',\n",
       " 'Langu742',\n",
       " 'Langu448',\n",
       " 'Langu9cb',\n",
       " 'Langu680',\n",
       " 'Langu578',\n",
       " 'Langua07',\n",
       " 'Langu040',\n",
       " 'Langu009',\n",
       " 'Langura1',\n",
       " 'Langu078',\n",
       " 'Langu777',\n",
       " 'Langu877',\n",
       " 'Langu025',\n",
       " 'Langu77k',\n",
       " 'LanguELC',\n",
       " 'LanguP64',\n",
       " 'Languy23',\n",
       " 'Langud02',\n",
       " 'Langunga',\n",
       " 'LanguURN',\n",
       " 'LanguU81',\n",
       " 'Langu75O',\n",
       " 'Langubin',\n",
       " 'Langutt2']"
      ]
     },
     "execution_count": 14,
     "metadata": {},
     "output_type": "execute_result"
    }
   ],
   "source": [
    "generate_n_honey_password('Language', choose_n=50)"
   ]
  },
  {
   "cell_type": "code",
   "execution_count": null,
   "id": "4619ad6f",
   "metadata": {},
   "outputs": [],
   "source": []
  },
  {
   "cell_type": "code",
   "execution_count": 15,
   "id": "987482fa",
   "metadata": {},
   "outputs": [],
   "source": [
    "import chars2vec\n",
    "import sklearn.decomposition\n",
    "import matplotlib.pyplot as plt\n",
    "\n",
    "\n",
    "# Load Inutition Engineering pretrained model\n",
    "# Models names: 'eng_50', 'eng_100', 'eng_150', 'eng_200', 'eng_300'\n",
    "c2v_model = chars2vec.load_model('eng_50')\n",
    "\n",
    "# words = ['Natural', 'Language', 'Understanding',\n",
    "#          'Naturael', 'Longuge', 'Updderctundjing',\n",
    "#          'Motural', 'Lamnguoge', 'Understaating',\n",
    "#          'Naturrow', 'Laguage', 'Unddertandink',\n",
    "#          'Nattural', 'Languagge', 'Umderstoneding']\n",
    "\n",
    "words = ['AliceBobo', 'HoneyNLP', 'Language',\n",
    "         'AliceBoff', 'Honeymmm', 'Langunea',\n",
    "         'AliceTass', 'Honey070', 'Langura1',\n",
    "         'Alicefeta', 'Honey123', 'Langunga',\n",
    "         'Alicelome', 'HoneyNLL', 'Langubin']"
   ]
  },
  {
   "cell_type": "code",
   "execution_count": 19,
   "id": "be01b979",
   "metadata": {},
   "outputs": [
    {
     "data": {
      "image/png": "[encoded data removed]",
      "text/plain": [
       "<Figure size 1080x432 with 1 Axes>"
      ]
     },
     "metadata": {
      "needs_background": "light"
     },
     "output_type": "display_data"
    }
   ],
   "source": [
    "# Create word embeddings\n",
    "word_embeddings = c2v_model.vectorize_words(words)\n",
    "\n",
    "# Project embeddings on plane using the PCA\n",
    "projection_2d = sklearn.decomposition.PCA(n_components=2).fit_transform(word_embeddings)\n",
    "\n",
    "# Draw words on plane\n",
    "f = plt.figure(figsize=(15, 6))\n",
    "\n",
    "for j in range(len(projection_2d)):\n",
    "    plt.scatter(projection_2d[j, 0], projection_2d[j, 1],\n",
    "                marker=('$' + words[j] + '$'),\n",
    "                s=500 * len(words[j]), label=j,\n",
    "                facecolors='green' if words[j]\n",
    "                            in ['AliceBobo', 'HoneyNLP', 'Language'] else 'black')\n",
    "plt.savefig('chars2vec.eps',dpi=1000,format='eps')\n",
    "plt.show()"
   ]
  },
  {
   "cell_type": "code",
   "execution_count": null,
   "id": "57d9717a",
   "metadata": {},
   "outputs": [],
   "source": []
  },
  {
   "cell_type": "code",
   "execution_count": null,
   "id": "2e763237",
   "metadata": {},
   "outputs": [],
   "source": []
  },
  {
   "cell_type": "code",
   "execution_count": null,
   "id": "969c9b4b",
   "metadata": {},
   "outputs": [],
   "source": []
  },
  {
   "cell_type": "code",
   "execution_count": null,
   "id": "2e1c87e7",
   "metadata": {},
   "outputs": [],
   "source": []
  },
  {
   "cell_type": "code",
   "execution_count": null,
   "id": "d8dd2769",
   "metadata": {},
   "outputs": [],
   "source": []
  },
  {
   "cell_type": "code",
   "execution_count": null,
   "id": "754a1515",
   "metadata": {},
   "outputs": [],
   "source": []
  },
  {
   "cell_type": "code",
   "execution_count": null,
   "id": "263f8b1d",
   "metadata": {},
   "outputs": [],
   "source": []
  },
  {
   "cell_type": "code",
   "execution_count": null,
   "id": "caf2d635",
   "metadata": {},
   "outputs": [],
   "source": []
  },
  {
   "cell_type": "code",
   "execution_count": null,
   "id": "4430e01c",
   "metadata": {
    "scrolled": true
   },
   "outputs": [
    {
     "name": "stdout",
     "output_type": "stream",
     "text": [
      "2/2 [==============================] - 0s 2ms/step\n",
      "2/2 [==============================] - 0s 3ms/step\n",
      "2/2 [==============================] - 0s 3ms/step\n",
      "2/2 [==============================] - 0s 2ms/step\n",
      "2/2 [==============================] - 0s 2ms/step\n",
      "2/2 [==============================] - 0s 2ms/step\n",
      "2/2 [==============================] - 0s 2ms/step\n",
      "2/2 [==============================] - 0s 3ms/step\n",
      "2/2 [==============================] - 0s 2ms/step\n",
      "2/2 [==============================] - 0s 2ms/step\n",
      "2/2 [==============================] - 0s 2ms/step\n",
      "2/2 [==============================] - 0s 2ms/step\n",
      "2/2 [==============================] - 0s 3ms/step\n",
      "2/2 [==============================] - 0s 2ms/step\n",
      "2/2 [==============================] - 0s 3ms/step\n",
      "2/2 [==============================] - 0s 2ms/step\n",
      "2/2 [==============================] - 0s 2ms/step\n"
     ]
    }
   ],
   "source": [
    "with open(\"./data/test_rockyou_typo.txt\",'w') as file:\n",
    "    f = open(\"./data/test_rockyou_true_password.txt\")\n",
    "    line = f.readline()\n",
    "    file.write(line[:-1]+\" \")\n",
    "    while line:\n",
    "        honey_passwords = generate_n_honey_password(line[:-1])\n",
    "        for p in honey_passwords:\n",
    "            file.write(p+\" \")\n",
    "        file.write(\"\\n\")\n",
    "#         print(line[:-1])\n",
    "        line = f.readline()\n",
    "    f.close()"
   ]
  },
  {
   "cell_type": "code",
   "execution_count": null,
   "id": "856092c2",
   "metadata": {},
   "outputs": [],
   "source": []
  },
  {
   "cell_type": "code",
   "execution_count": null,
   "id": "3d01adc2",
   "metadata": {},
   "outputs": [],
   "source": []
  },
  {
   "cell_type": "code",
   "execution_count": null,
   "id": "5fb936c8",
   "metadata": {},
   "outputs": [],
   "source": []
  },
  {
   "cell_type": "code",
   "execution_count": 28,
   "id": "dfa36c47",
   "metadata": {},
   "outputs": [],
   "source": [
    "char_list = ['a','b','c','d','e','f','g','h','i','j','k','l','m','n','o','p','q','r','s','t','u','v','w','x','y','z', \\\n",
    "             'A','B','C','D','E','F','G','H','I','J','K','L','M','N','O','P','Q','R','S','T','U','V','W','X','Y','Z', \\\n",
    "             '0','1','2','3','4','5','6','7','8','9']\n",
    "count_char = np.zeros(26+26+10)"
   ]
  },
  {
   "cell_type": "code",
   "execution_count": 20,
   "id": "a8da1028",
   "metadata": {},
   "outputs": [],
   "source": [
    "raw_passwords = []\n",
    "f = open(\"./data/flitered_rockyou.txt\")\n",
    "line = f.readline()\n",
    "while line:\n",
    "    raw_passwords.append(line[:-1])\n",
    "    line = f.readline()\n",
    "f.close()"
   ]
  },
  {
   "cell_type": "code",
   "execution_count": 21,
   "id": "130bd0ed",
   "metadata": {},
   "outputs": [
    {
     "data": {
      "text/plain": [
       "13326232"
      ]
     },
     "execution_count": 21,
     "metadata": {},
     "output_type": "execute_result"
    }
   ],
   "source": [
    "len(raw_passwords)"
   ]
  },
  {
   "cell_type": "code",
   "execution_count": 30,
   "id": "f1f611bb",
   "metadata": {},
   "outputs": [],
   "source": [
    "for p in raw_passwords:\n",
    "    for c in p:\n",
    "        count_char[char_list.index(c)] += 1"
   ]
  },
  {
   "cell_type": "code",
   "execution_count": 39,
   "id": "341c2ed3",
   "metadata": {},
   "outputs": [
    {
     "data": {
      "image/png": "[encoded data removed]",
      "text/plain": [
       "<Figure size 720x216 with 1 Axes>"
      ]
     },
     "metadata": {
      "needs_background": "light"
     },
     "output_type": "display_data"
    }
   ],
   "source": [
    "plt.figure(figsize=((10,3)))\n",
    "plt.xlabel('character')\n",
    "plt.ylabel('character count')\n",
    "plt.bar(char_list, count_char)\n",
    "plt.savefig('count.eps',dpi=1000,format='eps',bbox_inches=\"tight\")"
   ]
  },
  {
   "cell_type": "code",
   "execution_count": 27,
   "id": "83bdb586",
   "metadata": {},
   "outputs": [
    {
     "data": {
      "text/plain": [
       "2"
      ]
     },
     "execution_count": 27,
     "metadata": {},
     "output_type": "execute_result"
    }
   ],
   "source": [
    "char_list.index('c')"
   ]
  },
  {
   "cell_type": "code",
   "execution_count": 148,
   "id": "060271d5",
   "metadata": {},
   "outputs": [],
   "source": [
    "test_idx = np.random.randint(low=0, high=len(raw_passwords), size=100)"
   ]
  },
  {
   "cell_type": "code",
   "execution_count": 149,
   "id": "e0ac4ade",
   "metadata": {},
   "outputs": [],
   "source": [
    "with open(\"./data/test_rockyou_true_password.txt\",'w') as f:\n",
    "    for i in range(100):\n",
    "        f.write(raw_passwords[test_idx[i]]+\"\\n\")"
   ]
  },
  {
   "cell_type": "code",
   "execution_count": null,
   "id": "a50f1f54",
   "metadata": {},
   "outputs": [],
   "source": []
  }
 ],
 "metadata": {
  "kernelspec": {
   "display_name": "Python [conda env:py37] *",
   "language": "python",
   "name": "conda-env-py37-py"
  },
  "language_info": {
   "codemirror_mode": {
    "name": "ipython",
    "version": 3
   },
   "file_extension": ".py",
   "mimetype": "text/x-python",
   "name": "python",
   "nbconvert_exporter": "python",
   "pygments_lexer": "ipython3",
   "version": "3.7.11"
  }
 },
 "nbformat": 4,
 "nbformat_minor": 5
}
